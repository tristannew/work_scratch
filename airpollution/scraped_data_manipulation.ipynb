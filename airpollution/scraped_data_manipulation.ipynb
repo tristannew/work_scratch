{
 "cells": [
  {
   "cell_type": "code",
   "execution_count": 1,
   "metadata": {},
   "outputs": [],
   "source": [
    "import pandas as pd"
   ]
  },
  {
   "cell_type": "code",
   "execution_count": 2,
   "metadata": {},
   "outputs": [],
   "source": [
    "# read in scraped data\n",
    "df = pd.read_csv('airpollution/spiders/pollutant_sources.csv')"
   ]
  },
  {
   "cell_type": "code",
   "execution_count": 3,
   "metadata": {},
   "outputs": [],
   "source": [
    "# strip pollutant string\n",
    "df['Pollutant'] = df['Pollutant'].str.replace('Pollutant Information: ', '')"
   ]
  },
  {
   "cell_type": "code",
   "execution_count": 4,
   "metadata": {},
   "outputs": [],
   "source": [
    "# Strip category string\n",
    "df['Category'] = df['Category'].str.replace('Category: ', '')"
   ]
  },
  {
   "cell_type": "code",
   "execution_count": 5,
   "metadata": {},
   "outputs": [],
   "source": [
    "# list = df['Sources'].str.split(',', expand=True)\n",
    "# print(list)\n",
    "# for index, item in enumerate(list):\n",
    "#     for source in item:\n",
    "#         if source not in df.columns and source in item:\n",
    "#             df[source] = True\n",
    "#         else:\n",
    "#             df[source].iloc[index] = False\n",
    "\n",
    "\n",
    "# dummify data so that columns are the pollutants sources and \n",
    "# the values are a boolean to say if a pollutant matches this source\n",
    "dummies = df['Sources'].str.get_dummies(',')\n",
    "df_combined = pd.concat([df, dummies], axis=1)"
   ]
  },
  {
   "cell_type": "code",
   "execution_count": 6,
   "metadata": {},
   "outputs": [],
   "source": [
    "# send it off to a csv\n",
    "df_combined.to_csv('pollutant_sources_dummified.csv', index=False)"
   ]
  }
 ],
 "metadata": {
  "kernelspec": {
   "display_name": "Python 3",
   "language": "python",
   "name": "python3"
  },
  "language_info": {
   "codemirror_mode": {
    "name": "ipython",
    "version": 3
   },
   "file_extension": ".py",
   "mimetype": "text/x-python",
   "name": "python",
   "nbconvert_exporter": "python",
   "pygments_lexer": "ipython3",
   "version": "3.10.6"
  },
  "orig_nbformat": 4
 },
 "nbformat": 4,
 "nbformat_minor": 2
}
