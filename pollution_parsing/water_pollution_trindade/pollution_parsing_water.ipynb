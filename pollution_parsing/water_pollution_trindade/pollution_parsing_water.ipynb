{
 "cells": [
  {
   "cell_type": "code",
   "execution_count": 1,
   "metadata": {},
   "outputs": [],
   "source": [
    "# import dependencies\n",
    "import pandas as pd"
   ]
  },
  {
   "cell_type": "code",
   "execution_count": 6,
   "metadata": {},
   "outputs": [],
   "source": [
    "# read in excel. excel is stored in the same directory as this file so only the file name is needed.\n",
    "heavy_metal_ecotox_freshwater = pd.read_csv(\"heavy metals ecotoxicity freshwater.csv\")\n",
    "heavy_metal_ecotox_marine = pd.read_csv(\"heavy metals ecotoxicity marine.csv\")\n",
    "heavy_metal_humantox_freshwater = pd.read_csv(\"heavy metals human toxicity freshwater.csv\")\n",
    "heavy_metal_humantox_marine = pd.read_csv(\"heavy metals human toxicity marine.csv\")\n",
    "pesticides_ecotox_freshwater = pd.read_csv(\"pesticides  ecotoxicity marine.csv\")\n",
    "pesticides_ecotox_marine = pd.read_csv(\"pesticides ecotoxicity freshwater.csv\")\n",
    "pesticides_humantox_freshwater = pd.read_csv(\"pesticides human toxicity freshwater.csv\")\n",
    "pesticides_humantox_marine = pd.read_csv(\"pesticides human toxicity marine.csv\")\n",
    "pollutants_ecotox_freshwater = pd.read_csv(\"pollutants ecotoxicity freshwater.csv\")\n",
    "pollutants_ecotox_marine = pd.read_csv(\"pollutants ecotoxicity marine.csv\")\n",
    "pollutants_humantox_freshwater = pd.read_csv(\"pollutants human toxicity freshwater.csv\")\n",
    "pollutants_humantox_marine = pd.read_csv(\"pollutants human toxicity marine.csv\")\n",
    "\n",
    "df_list = [heavy_metal_ecotox_freshwater, \n",
    "           heavy_metal_ecotox_marine,\n",
    "           heavy_metal_humantox_freshwater,\n",
    "           heavy_metal_humantox_marine,\n",
    "           pollutants_ecotox_freshwater,\n",
    "           pollutants_ecotox_marine,\n",
    "           pollutants_humantox_freshwater,\n",
    "           pollutants_humantox_marine]\n",
    "\n",
    "pest_list =[pesticides_ecotox_freshwater,\n",
    "            pesticides_ecotox_marine,\n",
    "            pesticides_humantox_freshwater,\n",
    "            pesticides_humantox_marine]"
   ]
  },
  {
   "cell_type": "code",
   "execution_count": 7,
   "metadata": {},
   "outputs": [],
   "source": [
    "for df in df_list:\n",
    "    for col in df.columns:\n",
    "        new_df = df[['ISO', col]]\n",
    "        new_df.columns = ['ISO', '2019']\n",
    "        new_df.to_csv(f\"output3/{col}.csv\", index=False)"
   ]
  },
  {
   "cell_type": "code",
   "execution_count": 8,
   "metadata": {},
   "outputs": [],
   "source": [
    "for df in pest_list:\n",
    "    for col in df.columns:\n",
    "        new_df = df[['ISO', col]]\n",
    "        new_df.columns = ['ISO', '2013']\n",
    "        new_df.to_csv(f\"~/personal_code/work_scratch/pollution_parsing/water_pollution_trindade/output3/{col}.csv\", index=False)"
   ]
  },
  {
   "cell_type": "code",
   "execution_count": 8,
   "metadata": {},
   "outputs": [],
   "source": [
    "# for loop that iterates through each column name\n",
    "for col in df.columns:\n",
    "    if col.find(\"Eco\") != -1:\n",
    "        # create new dataframe object that contains only the ISO column and the pollutants of interest (there will also be a double ISO df but this is just a quick script)\n",
    "        new_df = df[['ISO Code', col]]\n",
    "        # rename columns so that year is included\n",
    "        new_df.columns = ['ISO', '2021']\n",
    "        # export columns to csv, named after pollutant\n",
    "        new_df.to_csv(f\"land/{col}.csv\",index=False)"
   ]
  }
 ],
 "metadata": {
  "kernelspec": {
   "display_name": "Python 3",
   "language": "python",
   "name": "python3"
  },
  "language_info": {
   "codemirror_mode": {
    "name": "ipython",
    "version": 3
   },
   "file_extension": ".py",
   "mimetype": "text/x-python",
   "name": "python",
   "nbconvert_exporter": "python",
   "pygments_lexer": "ipython3",
   "version": "3.10.6"
  },
  "orig_nbformat": 4
 },
 "nbformat": 4,
 "nbformat_minor": 2
}
