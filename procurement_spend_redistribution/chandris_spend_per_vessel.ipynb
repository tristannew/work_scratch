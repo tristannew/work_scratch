{
 "cells": [
  {
   "cell_type": "code",
   "execution_count": 21,
   "metadata": {},
   "outputs": [],
   "source": [
    "import pandas as pd\n",
    "from datetime import datetime"
   ]
  },
  {
   "attachments": {},
   "cell_type": "markdown",
   "metadata": {},
   "source": [
    "## Read in Chandris & Century Procurement data"
   ]
  },
  {
   "cell_type": "code",
   "execution_count": 22,
   "metadata": {},
   "outputs": [],
   "source": [
    "chandris = pd.read_excel(\"Procurement Ledger 2022_per vessel.xlsx\", sheet_name=\"CHANDRIS\").drop(['Vendor Sector No', 'Vendor Sector Description', 'Currency Conversion Rate (Currency to USD)', 'Amount'], axis = 1)\n",
    "century = pd.read_excel(\"Procurement Ledger 2022_per vessel.xlsx\", sheet_name=\"CENTURY\").drop(['Vendor Sector No', 'Currency Conversion Rate', 'Amount'], axis = 1)\n"
   ]
  },
  {
   "attachments": {},
   "cell_type": "markdown",
   "metadata": {},
   "source": [
    "## Check it"
   ]
  },
  {
   "cell_type": "code",
   "execution_count": 23,
   "metadata": {},
   "outputs": [
    {
     "data": {
      "text/html": [
       "<div>\n",
       "<style scoped>\n",
       "    .dataframe tbody tr th:only-of-type {\n",
       "        vertical-align: middle;\n",
       "    }\n",
       "\n",
       "    .dataframe tbody tr th {\n",
       "        vertical-align: top;\n",
       "    }\n",
       "\n",
       "    .dataframe thead th {\n",
       "        text-align: right;\n",
       "    }\n",
       "</style>\n",
       "<table border=\"1\" class=\"dataframe\">\n",
       "  <thead>\n",
       "    <tr style=\"text-align: right;\">\n",
       "      <th></th>\n",
       "      <th>Posting Date</th>\n",
       "      <th>Vendor Name</th>\n",
       "      <th>Column2</th>\n",
       "      <th>Country_Region Code</th>\n",
       "      <th>Currency Code</th>\n",
       "      <th>Column1</th>\n",
       "      <th>Vessel Name</th>\n",
       "    </tr>\n",
       "  </thead>\n",
       "  <tbody>\n",
       "    <tr>\n",
       "      <th>0</th>\n",
       "      <td>2022-07-08</td>\n",
       "      <td>UNION OF GREEK SHIPOWNERS</td>\n",
       "      <td>Activities of business,employers &amp; prof organ.</td>\n",
       "      <td>GR</td>\n",
       "      <td>EUR</td>\n",
       "      <td>3688.30</td>\n",
       "      <td>M/T ALTHEA</td>\n",
       "    </tr>\n",
       "    <tr>\n",
       "      <th>1</th>\n",
       "      <td>2022-01-28</td>\n",
       "      <td>INTERTANKO</td>\n",
       "      <td>Activities of business,employers &amp; prof organ.</td>\n",
       "      <td>NO</td>\n",
       "      <td>USD</td>\n",
       "      <td>2468.82</td>\n",
       "      <td>M/T SESTREA</td>\n",
       "    </tr>\n",
       "    <tr>\n",
       "      <th>2</th>\n",
       "      <td>2022-01-24</td>\n",
       "      <td>INTERNATIONAL MARITIME EMPLOYERS' COUNCIL LIMI...</td>\n",
       "      <td>Activities of business,employers &amp; prof organ.</td>\n",
       "      <td>GB</td>\n",
       "      <td>USD</td>\n",
       "      <td>660.00</td>\n",
       "      <td>M/T SESTREA</td>\n",
       "    </tr>\n",
       "    <tr>\n",
       "      <th>3</th>\n",
       "      <td>2022-08-17</td>\n",
       "      <td>INTERNATIONAL MARITIME EMPLOYERS' COUNCIL LIMI...</td>\n",
       "      <td>Activities of business,employers &amp; prof organ.</td>\n",
       "      <td>GB</td>\n",
       "      <td>USD</td>\n",
       "      <td>660.00</td>\n",
       "      <td>M/T SESTREA</td>\n",
       "    </tr>\n",
       "    <tr>\n",
       "      <th>4</th>\n",
       "      <td>2022-04-08</td>\n",
       "      <td>INTERNATIONAL MARITIME EMPLOYERS' COUNCIL LIMI...</td>\n",
       "      <td>Activities of business,employers &amp; prof organ.</td>\n",
       "      <td>GB</td>\n",
       "      <td>USD</td>\n",
       "      <td>660.00</td>\n",
       "      <td>M/T SESTREA</td>\n",
       "    </tr>\n",
       "  </tbody>\n",
       "</table>\n",
       "</div>"
      ],
      "text/plain": [
       "  Posting Date                                        Vendor Name  \\\n",
       "0   2022-07-08                          UNION OF GREEK SHIPOWNERS   \n",
       "1   2022-01-28                                         INTERTANKO   \n",
       "2   2022-01-24  INTERNATIONAL MARITIME EMPLOYERS' COUNCIL LIMI...   \n",
       "3   2022-08-17  INTERNATIONAL MARITIME EMPLOYERS' COUNCIL LIMI...   \n",
       "4   2022-04-08  INTERNATIONAL MARITIME EMPLOYERS' COUNCIL LIMI...   \n",
       "\n",
       "                                          Column2 Country_Region Code  \\\n",
       "0  Activities of business,employers & prof organ.                  GR   \n",
       "1  Activities of business,employers & prof organ.                  NO   \n",
       "2  Activities of business,employers & prof organ.                  GB   \n",
       "3  Activities of business,employers & prof organ.                  GB   \n",
       "4  Activities of business,employers & prof organ.                  GB   \n",
       "\n",
       "  Currency Code  Column1  Vessel Name  \n",
       "0           EUR  3688.30   M/T ALTHEA  \n",
       "1           USD  2468.82  M/T SESTREA  \n",
       "2           USD   660.00  M/T SESTREA  \n",
       "3           USD   660.00  M/T SESTREA  \n",
       "4           USD   660.00  M/T SESTREA  "
      ]
     },
     "execution_count": 23,
     "metadata": {},
     "output_type": "execute_result"
    }
   ],
   "source": [
    "chandris.head()"
   ]
  },
  {
   "cell_type": "code",
   "execution_count": 24,
   "metadata": {},
   "outputs": [],
   "source": [
    "chandris.loc[[2375], ['Country_Region Code']] = 'GB'"
   ]
  },
  {
   "cell_type": "code",
   "execution_count": 25,
   "metadata": {},
   "outputs": [
    {
     "data": {
      "text/html": [
       "<div>\n",
       "<style scoped>\n",
       "    .dataframe tbody tr th:only-of-type {\n",
       "        vertical-align: middle;\n",
       "    }\n",
       "\n",
       "    .dataframe tbody tr th {\n",
       "        vertical-align: top;\n",
       "    }\n",
       "\n",
       "    .dataframe thead th {\n",
       "        text-align: right;\n",
       "    }\n",
       "</style>\n",
       "<table border=\"1\" class=\"dataframe\">\n",
       "  <thead>\n",
       "    <tr style=\"text-align: right;\">\n",
       "      <th></th>\n",
       "      <th>Posting Date</th>\n",
       "      <th>Vendor Name</th>\n",
       "      <th>Column2</th>\n",
       "      <th>Country_Region Code</th>\n",
       "      <th>Currency Code</th>\n",
       "      <th>Column1</th>\n",
       "      <th>Vessel Name</th>\n",
       "    </tr>\n",
       "  </thead>\n",
       "  <tbody>\n",
       "  </tbody>\n",
       "</table>\n",
       "</div>"
      ],
      "text/plain": [
       "Empty DataFrame\n",
       "Columns: [Posting Date, Vendor Name, Column2, Country_Region Code, Currency Code, Column1, Vessel Name]\n",
       "Index: []"
      ]
     },
     "execution_count": 25,
     "metadata": {},
     "output_type": "execute_result"
    }
   ],
   "source": [
    "chandris[(chandris['Country_Region Code'].isnull() == True) & (chandris['Column2'] != \"z-NULL\")]"
   ]
  },
  {
   "cell_type": "code",
   "execution_count": 26,
   "metadata": {},
   "outputs": [],
   "source": [
    "chandris['Currency'] = 'USD'\n",
    "century['Currency'] = 'USD'"
   ]
  },
  {
   "cell_type": "code",
   "execution_count": 27,
   "metadata": {},
   "outputs": [],
   "source": [
    "# first is to create a column with all country-sectors\n",
    "chandris['country-sectors'] = chandris['Column2'] + \" - \" + chandris['Country_Region Code']\n",
    "century['country-sectors'] = century['Column2'] + \" - \" + century['Country_Region Code']"
   ]
  },
  {
   "attachments": {},
   "cell_type": "markdown",
   "metadata": {},
   "source": [
    "# Separate Vessels into Own DataFrames - Chandris"
   ]
  },
  {
   "cell_type": "code",
   "execution_count": 28,
   "metadata": {},
   "outputs": [],
   "source": [
    "ALTHEA = chandris[chandris['Vessel Name'] == 'M/T ALTHEA']\n",
    "SESTREA = chandris[chandris['Vessel Name'] == 'M/T SESTREA']\n",
    "AKTEA = chandris[chandris['Vessel Name'] == 'M/T AKTEA']\n",
    "AEGEA = chandris[chandris['Vessel Name'] == 'M/T AEGEA']\n",
    "ASTREA = chandris[chandris['Vessel Name'] == 'M/T ASTREA']\n",
    "AQUASMERALDA = chandris[chandris['Vessel Name'] == 'M/T AQUASMERALDA']\n",
    "AUSTRALIS = chandris[chandris['Vessel Name'] == 'M/T AUSTRALIS']\n",
    "ALIAI = chandris[chandris['Vessel Name'] == 'M/T ALIAI']\n",
    "OCEANIS = chandris[chandris['Vessel Name'] == 'M/T OCEANIS']\n",
    "ELLINIS = chandris[chandris['Vessel Name'] == 'M/T ELLINIS']\n",
    "SERENEA = chandris[chandris['Vessel Name'] == 'M/T SERENEA']\n",
    "ARETEA = chandris[chandris['Vessel Name'] == 'M/T ARETEA']\n",
    "ATHINEA = chandris[chandris['Vessel Name'] == 'M/T ATHINEA']\n",
    "ARISTEA = chandris[chandris['Vessel Name'] == 'M/T ARISTEA']\n",
    "AMARTHEA = chandris[chandris['Vessel Name'] == 'M/T AMARTHEA']\n",
    "ALKEA = chandris[chandris['Vessel Name'] == 'M/T ALKEA']"
   ]
  },
  {
   "attachments": {},
   "cell_type": "markdown",
   "metadata": {},
   "source": [
    "## Separate Vessels into their own dataframes - Century"
   ]
  },
  {
   "cell_type": "code",
   "execution_count": 29,
   "metadata": {},
   "outputs": [],
   "source": [
    "MARIETTA = century[century['Vessel Name'] == 'M/V MARIETTA']\n",
    "MYRTO = century[century['Vessel Name'] == 'M/V MYRTO']\n",
    "DONA_BIBI = century[century['Vessel Name'] == 'M/V DONA BIBI']\n",
    "MARIPERLA = century[century['Vessel Name'] == 'M/V MARIPERLA']\n",
    "SERENE_AMELIA = century[century['Vessel Name'] == 'M/V SERENE AMELIA']\n",
    "MARIVICTORIA = century[century['Vessel Name'] == 'M/V MARIVICTORIA']\n",
    "DONA_TARA = century[century['Vessel Name'] == 'M/V DONA TARA']\n",
    "MARIJEANNIE = century[century['Vessel Name'] == 'M/V MARIJEANNIE']\n",
    "MARIBELLA = century[century['Vessel Name'] == 'M/V MARIBELLA']\n",
    "MARINICKI = century[century['Vessel Name'] == 'M/V MARINICKI']\n",
    "NANA_Z = century[century['Vessel Name'] == 'M/V NANA Z']\n",
    "SERENE_JUNIPER = century[century['Vessel Name'] == 'M/V SERENE JUNIPER']\n",
    "SERENE_THEODORA = century[century['Vessel Name'] == 'M/V SERENE THEODORA']\n",
    "SERENE_JESSICA = century[century['Vessel Name'] == 'M/V SERENE JESSICA']\n",
    "MARILOULA = century[century['Vessel Name'] == 'M/V MARILOULA']\n",
    "CLAIRE_Z = century[century['Vessel Name'] == 'M/V CLAIRE Z']"
   ]
  },
  {
   "attachments": {},
   "cell_type": "markdown",
   "metadata": {},
   "source": [
    "## Redistributed 'NULL' Spend\n",
    "\n",
    "In order to do this, I need to multiply the sum of spend where sector is null by the sum of spend for each country sector divided by the sum of spend where sector is not null.\n",
    "\n",
    "pseudo code:\n",
    "\n",
    "sum_null_spend = spend[null].sum()\n",
    "\n",
    "sum_not_null_spend = spend[not null].sum()\n",
    "\n",
    "country-sector pairings = list of unique occurences of country sector pairings\n",
    "\n",
    "for pairing in country-sector pairings:\n",
    "\n",
    "other spend = sum_null_spend * (sum_pairing_spend/sum_non_null_spend)"
   ]
  },
  {
   "attachments": {},
   "cell_type": "markdown",
   "metadata": {},
   "source": [
    "## Create Function to Redistribute Other Spend"
   ]
  },
  {
   "cell_type": "code",
   "execution_count": 30,
   "metadata": {},
   "outputs": [],
   "source": [
    "# # def other_spend_redistributer(DataFrame):\n",
    "# chandris_other_spend = {}\n",
    "# # for loop through unique country sector pairings where sectro is not null\n",
    "# for i in chandris[chandris['Column2'] != 'z-NULL']['country-sectors'].unique():\n",
    "#     # sum of spend where sector is not null\n",
    "#     non_null_spend = chandris[chandris['Column2'] != 'z-NULL']['Column1'].sum()\n",
    "#     # sum of spend in particular country-sector\n",
    "#     cs_spend = chandris[chandris['country-sectors'] == i]['Column1'].sum()\n",
    "#     # sum of spend where sector is null\n",
    "#     null_spend = chandris[chandris['Column2'] == 'z-NULL']['Column1'].sum()\n",
    "#     # distributed null spend\n",
    "#     distributed_null_spend = null_spend * (cs_spend/non_null_spend)\n",
    "#     # have two cols and a row that has the country-sector and its reditributed spend\n",
    "#     chandris_other_spend['country-sectors'] = i\n",
    "#     chandris_other_spend['spend'] = distributed_null_spend"
   ]
  },
  {
   "cell_type": "code",
   "execution_count": 31,
   "metadata": {},
   "outputs": [
    {
     "data": {
      "text/html": [
       "<div>\n",
       "<style scoped>\n",
       "    .dataframe tbody tr th:only-of-type {\n",
       "        vertical-align: middle;\n",
       "    }\n",
       "\n",
       "    .dataframe tbody tr th {\n",
       "        vertical-align: top;\n",
       "    }\n",
       "\n",
       "    .dataframe thead th {\n",
       "        text-align: right;\n",
       "    }\n",
       "</style>\n",
       "<table border=\"1\" class=\"dataframe\">\n",
       "  <thead>\n",
       "    <tr style=\"text-align: right;\">\n",
       "      <th></th>\n",
       "      <th>Posting Date</th>\n",
       "      <th>Vendor Name</th>\n",
       "      <th>Column2</th>\n",
       "      <th>Country_Region Code</th>\n",
       "      <th>Currency Code</th>\n",
       "      <th>Column1</th>\n",
       "      <th>Vessel Name</th>\n",
       "      <th>Currency</th>\n",
       "      <th>country-sectors</th>\n",
       "    </tr>\n",
       "  </thead>\n",
       "  <tbody>\n",
       "  </tbody>\n",
       "</table>\n",
       "</div>"
      ],
      "text/plain": [
       "Empty DataFrame\n",
       "Columns: [Posting Date, Vendor Name, Column2, Country_Region Code, Currency Code, Column1, Vessel Name, Currency, country-sectors]\n",
       "Index: []"
      ]
     },
     "execution_count": 31,
     "metadata": {},
     "output_type": "execute_result"
    }
   ],
   "source": [
    "AEGEA[AEGEA['country-sectors'].isnull() == True]"
   ]
  },
  {
   "cell_type": "code",
   "execution_count": 32,
   "metadata": {},
   "outputs": [
    {
     "data": {
      "text/plain": [
       "array(['Activities of business,employers & prof organ. - GR',\n",
       "       'Activities of business,employers & prof organ. - NO',\n",
       "       'Activities of business,employers & prof organ. - GB',\n",
       "       'All other misc professional,scientific & tech serv - GR',\n",
       "       'All other misc professional,scientific & tech serv - CA',\n",
       "       'All other misc professional,scientific & tech serv - US',\n",
       "       'All other misc professional,scientific & tech serv - SC',\n",
       "       'All other misc professional,scientific & tech serv - HK',\n",
       "       'All other misc professional,scientific & tech serv - GB',\n",
       "       'All other misc professional,scientific & tech serv - FR',\n",
       "       'Courier activities other than national post act - GR',\n",
       "       'Custom computer programming services - GR',\n",
       "       'Custom computer programming services - DK', 'Education - GR',\n",
       "       'Environmental and other technical consulting serv. - MT',\n",
       "       'Financial intermediation,expt insur. & pensions - GR',\n",
       "       'Freight air transport - CY', 'Freight air transport - AU',\n",
       "       'Freight air transport - GR', 'Freight Ocean Transport - GR',\n",
       "       'Hotels and motels, with restaurant (licensed) - GR',\n",
       "       'Insurance, reinsurance & pension funding, except - BM',\n",
       "       'Insurance, reinsurance & pension funding, except - GB',\n",
       "       'Insurance, reinsurance & pension funding, except - CY',\n",
       "       'Insurance, reinsurance & pension funding, except - GR',\n",
       "       'Investigation and security activities - CY',\n",
       "       'Labour recruitment and provision of personnel - MH',\n",
       "       'Legal activities (Market) - GB', 'Local government - MT',\n",
       "       'Local government - LR',\n",
       "       'Manufacture of basic pharmaceuticals - US',\n",
       "       'Manufacture of basic pharmaceuticals - GR',\n",
       "       'Manufacture of chemicals and chemical products - GB',\n",
       "       'Manufacture of chemicals and chemical products - NO',\n",
       "       'Manufacture of chemicals and chemical products - PA',\n",
       "       'Manufacture of chemicals and chemical products - GR',\n",
       "       'Manufacture of chemicals and chemical products - US',\n",
       "       'Manufacture of chemicals and chemical products - DK',\n",
       "       'Manufacture of chemicals and chemical products - CY',\n",
       "       'Manufacture of chemicals and chemical products - AE',\n",
       "       'Manufacture of coke,refined petroleum prod,nuclear - GB',\n",
       "       'Manufacture of coke,refined petroleum prod,nuclear - AE',\n",
       "       'Manufacture of coke,refined petroleum prod,nuclear - MC',\n",
       "       'Manufacture of coke,refined petroleum prod,nuclear - CY',\n",
       "       'Manufacture of coke,refined petroleum prod,nuclear - DK',\n",
       "       'Manufacture of food products and beverages - US',\n",
       "       'Manufacture of food products and beverages - GI',\n",
       "       'Manufacture of food products and beverages - EC',\n",
       "       'Manufacture of machinery & equipment n.e.c. - GR',\n",
       "       'Manufacture of machinery & equipment n.e.c. - CH',\n",
       "       'Manufacture of machinery & equipment n.e.c. - JP',\n",
       "       'Manufacture of machinery & equipment n.e.c. - DK',\n",
       "       'Manufacture of machinery & equipment n.e.c. - CY',\n",
       "       'Manufacture of machinery & equipment n.e.c. - NL',\n",
       "       'Manufacture of machinery & equipment n.e.c. - ZA',\n",
       "       'Manufacture of machinery & equipment n.e.c. - NO',\n",
       "       'Manufacture of machinery & equipment n.e.c. - KR',\n",
       "       'Manufacture of machinery & equipment n.e.c. - SG',\n",
       "       'Manufacture of machinery & equipment n.e.c. - DE',\n",
       "       'Manufacture of machinery & equipment n.e.c. - GB',\n",
       "       'Manufacture of machinery & equipment n.e.c. - CN',\n",
       "       'Manufacture of machinery & equipment n.e.c. - BE',\n",
       "       'Manufacture of machinery & equipment n.e.c. - SE',\n",
       "       'Manufacture of machinery & equipment n.e.c. - KP',\n",
       "       'Manufacture of machinery & equipment n.e.c. - HK',\n",
       "       'Manufacture of machinery & equipment n.e.c. - IT',\n",
       "       'Manufacture of machinery & equipment n.e.c. - FR',\n",
       "       'Manufacture of machinery & equipment n.e.c. - LR',\n",
       "       'Manufacture of other transport equipment - GR',\n",
       "       'Manufacture of other transport equipment - KR',\n",
       "       'Manufacture of other transport equipment - DE',\n",
       "       'Market travel agency services - GR',\n",
       "       'Office supplies (except paper) manufacturing - GR',\n",
       "       'Other human health activities - GR',\n",
       "       'Other information services - CY', 'Other support services - JP',\n",
       "       'Other support services - NL', 'Other support services - HK',\n",
       "       'Other support services - CY', 'Other support services - MH',\n",
       "       'Other support services - GR', 'Other support services - KR',\n",
       "       'Other support services - US', 'Other support services - PH',\n",
       "       'Other support services - CN', 'Other support services - GB',\n",
       "       'Other support services - DK', 'Other support services - SG',\n",
       "       'Other support services - DE', 'Other support services - AE',\n",
       "       'Other support services - NO', 'Other support services - BR',\n",
       "       'Other support services - HR', 'Other support services - KP',\n",
       "       'Other support services - LR', 'Other support services - IT',\n",
       "       'Other support services - IL', 'Other support services - BE',\n",
       "       'Other support services - FR', 'Other support services - CA',\n",
       "       'Other support services - UA', 'Other support services - BG',\n",
       "       'Other support services - AU', 'Other support services - IN',\n",
       "       'Other support services - FI', 'Other support services - VG',\n",
       "       'Other supporting water transport activities - FR',\n",
       "       'Other supporting water transport activities - GB',\n",
       "       'Other supporting water transport activities - PH',\n",
       "       'Other supporting water transport activities - BR',\n",
       "       'Other supporting water transport activities - MT',\n",
       "       'Other supporting water transport activities - US',\n",
       "       'Other supporting water transport activities - CO',\n",
       "       'Other supporting water transport activities - AU',\n",
       "       'Other supporting water transport activities - SA',\n",
       "       'Other supporting water transport activities - BE',\n",
       "       'Other supporting water transport activities - TT',\n",
       "       'Other supporting water transport activities - GT',\n",
       "       'Other supporting water transport activities - DK',\n",
       "       'Other supporting water transport activities - IT',\n",
       "       'Other supporting water transport activities - SV',\n",
       "       'Other supporting water transport activities - ES',\n",
       "       'Other supporting water transport activities - HN',\n",
       "       'Other supporting water transport activities - NL',\n",
       "       'Other supporting water transport activities - RU',\n",
       "       'Other supporting water transport activities - SG',\n",
       "       'Other supporting water transport activities - HR',\n",
       "       'Other supporting water transport activities - ID',\n",
       "       'Other supporting water transport activities - EG',\n",
       "       'Other supporting water transport activities - CL',\n",
       "       'Other supporting water transport activities - KR',\n",
       "       'Other supporting water transport activities - NO',\n",
       "       'Other supporting water transport activities - IL',\n",
       "       'Other supporting water transport activities - GR',\n",
       "       'Other supporting water transport activities - CY',\n",
       "       'Other supporting water transport activities - CH',\n",
       "       'Other supporting water transport activities - MX',\n",
       "       'Other supporting water transport activities - IN',\n",
       "       'Other supporting water transport activities - TH',\n",
       "       'Other supporting water transport activities - TG',\n",
       "       'Other supporting water transport activities - LK',\n",
       "       'Other telecommunication - GR', 'Paints - BE', 'Paints - GR',\n",
       "       'Retail trade,except of motor vehicles & motorcycle - JP',\n",
       "       'Retail trade,except of motor vehicles & motorcycle - ZA',\n",
       "       'Retail trade,except of motor vehicles & motorcycle - PA',\n",
       "       'Retail trade,except of motor vehicles & motorcycle - TR',\n",
       "       'Retail trade,except of motor vehicles & motorcycle - GR',\n",
       "       'Retail trade,except of motor vehicles & motorcycle - KR',\n",
       "       'Retail trade,except of motor vehicles & motorcycle - NL',\n",
       "       'Retail trade,except of motor vehicles & motorcycle - US',\n",
       "       'Retail trade,except of motor vehicles & motorcycle - SG',\n",
       "       'Retail trade,except of motor vehicles & motorcycle - AE',\n",
       "       'Retail trade,except of motor vehicles & motorcycle - CN',\n",
       "       'Retail trade,except of motor vehicles & motorcycle - AR',\n",
       "       'Retail trade,except of motor vehicles & motorcycle - BR',\n",
       "       'Retail trade,except of motor vehicles & motorcycle - AU',\n",
       "       'Retail trade,except of motor vehicles & motorcycle - IN',\n",
       "       'Retail trade,except of motor vehicles & motorcycle - IT',\n",
       "       'Retail trade,except of motor vehicles & motorcycle - ES',\n",
       "       'Retail trade,except of motor vehicles & motorcycle - BE',\n",
       "       'Retail trade,except of motor vehicles & motorcycle - EG',\n",
       "       'Retail trade,except of motor vehicles & motorcycle - GB',\n",
       "       'Retail trade,except of motor vehicles & motorcycle - EC',\n",
       "       'Retail trade,except of motor vehicles & motorcycle - TG',\n",
       "       'Retail trade,except of motor vehicles & motorcycle - CL',\n",
       "       'Retail trade,except of motor vehicles & motorcycle - DK',\n",
       "       'Retail trade,except of motor vehicles & motorcycle - CA',\n",
       "       'Retail trade,except of motor vehicles & motorcycle - NO',\n",
       "       'Retail trade,except of motor vehicles & motorcycle - FR',\n",
       "       'Retail trade,except of motor vehicles & motorcycle - LK',\n",
       "       'Retail trade,except of motor vehicles & motorcycle - IL',\n",
       "       'Retail trade,except of motor vehicles & motorcycle - PT',\n",
       "       'Retail trade,except of motor vehicles & motorcycle - CY',\n",
       "       'Retail trade,except of motor vehicles & motorcycle - LR'],\n",
       "      dtype=object)"
      ]
     },
     "execution_count": 32,
     "metadata": {},
     "output_type": "execute_result"
    }
   ],
   "source": [
    "chandris[chandris['Column2'] != 'z-NULL']['country-sectors'].unique()"
   ]
  },
  {
   "cell_type": "code",
   "execution_count": 33,
   "metadata": {},
   "outputs": [],
   "source": [
    "def other_spend_redistributer(dataframe, spend_column_name, null_values_name, sector_columns_name):\n",
    "    country_sector = []\n",
    "    spend = []\n",
    "# for loop through unique country sector pairings where sectro is not null\n",
    "    for i in dataframe[dataframe[sector_columns_name] != null_values_name]['country-sectors'].unique():\n",
    "        # sum of spend where sector is not null\n",
    "        non_null_spend = dataframe[dataframe[sector_columns_name] != null_values_name][spend_column_name].sum()\n",
    "        # sum of spend in particular country-sector\n",
    "        cs_spend = dataframe[dataframe['country-sectors'] == i][spend_column_name].sum()\n",
    "        # sum of spend where sector is null\n",
    "        null_spend = dataframe[dataframe[sector_columns_name] == null_values_name][spend_column_name].sum()\n",
    "        # distributed null spend\n",
    "        distributed_null_spend = null_spend * (cs_spend/non_null_spend)\n",
    "        # have two cols and a row that has the country-sector and its reditributed spend\n",
    "        country_sector.append(i)\n",
    "        spend.append(distributed_null_spend)\n",
    "    return dict(zip(country_sector, spend))"
   ]
  },
  {
   "attachments": {},
   "cell_type": "markdown",
   "metadata": {},
   "source": [
    "## Use Function to Calculate Chandris Other Spend"
   ]
  },
  {
   "cell_type": "code",
   "execution_count": 34,
   "metadata": {},
   "outputs": [],
   "source": [
    "ALTHEA_OTHER_SPEND = other_spend_redistributer(ALTHEA, \"Column1\", \"z-NULL\", \"Column2\") \n",
    "SESTREA_OTHER_SPEND = other_spend_redistributer(SESTREA , \"Column1\", \"z-NULL\", \"Column2\") \n",
    "AKTEA_OTHER_SPEND = other_spend_redistributer(AKTEA , \"Column1\", \"z-NULL\", \"Column2\") \n",
    "AEGEA_OTHER_SPEND = other_spend_redistributer(AEGEA , \"Column1\", \"z-NULL\", \"Column2\") \n",
    "ASTREA_OTHER_SPEND = other_spend_redistributer(ASTREA , \"Column1\", \"z-NULL\", \"Column2\") \n",
    "AQUASMERALDA_OTHER_SPEND = other_spend_redistributer(AQUASMERALDA , \"Column1\", \"z-NULL\", \"Column2\") \n",
    "AUSTRALIS_OTHER_SPEND = other_spend_redistributer(AUSTRALIS , \"Column1\", \"z-NULL\", \"Column2\") \n",
    "ALIAI_OTHER_SPEND = other_spend_redistributer(ALIAI , \"Column1\", \"z-NULL\", \"Column2\") \n",
    "OCEANIS_OTHER_SPEND = other_spend_redistributer(OCEANIS , \"Column1\", \"z-NULL\", \"Column2\") \n",
    "ELLINIS_OTHER_SPEND = other_spend_redistributer(ELLINIS, \"Column1\", \"z-NULL\", \"Column2\") \n",
    "SERENEA_OTHER_SPEND = other_spend_redistributer(SERENEA , \"Column1\", \"z-NULL\", \"Column2\") \n",
    "ARETEA_OTHER_SPEND = other_spend_redistributer(ARETEA , \"Column1\", \"z-NULL\", \"Column2\") \n",
    "ATHINEA_OTHER_SPEND = other_spend_redistributer(ATHINEA , \"Column1\", \"z-NULL\", \"Column2\") \n",
    "ARISTEA_OTHER_SPEND = other_spend_redistributer(ARISTEA , \"Column1\", \"z-NULL\", \"Column2\")\n",
    "AMARTHEA_OTHER_SPEND = other_spend_redistributer(AMARTHEA , \"Column1\", \"z-NULL\", \"Column2\")\n",
    "ALKEA_OTHER_SPEND = other_spend_redistributer(ALKEA, \"Column1\", \"z-NULL\", \"Column2\")"
   ]
  },
  {
   "attachments": {},
   "cell_type": "markdown",
   "metadata": {},
   "source": [
    "## Use Fucntion to Calculate Century Other Spend"
   ]
  },
  {
   "cell_type": "code",
   "execution_count": 35,
   "metadata": {},
   "outputs": [],
   "source": [
    "MARIETTA_OTHER_SPEND = other_spend_redistributer(MARIETTA , \"Column1\", \"z-NULL\", \"Column2\") \n",
    "MYRTO_OTHER_SPEND = other_spend_redistributer(MYRTO , \"Column1\", \"z-NULL\", \"Column2\") \n",
    "DONA_BIBI_OTHER_SPEND = other_spend_redistributer(DONA_BIBI , \"Column1\", \"z-NULL\", \"Column2\")\n",
    "MARIPERLA_OTHER_SPEND = other_spend_redistributer(MARIPERLA , \"Column1\", \"z-NULL\", \"Column2\") \n",
    "SERENE_AMELIA_OTHER_SPEND = other_spend_redistributer(SERENE_AMELIA , \"Column1\", \"z-NULL\", \"Column2\") \n",
    "MARIVICTORIA_OTHER_SPEND = other_spend_redistributer(MARIVICTORIA , \"Column1\", \"z-NULL\", \"Column2\") \n",
    "DONA_TARA_OTHER_SPEND = other_spend_redistributer(DONA_TARA , \"Column1\", \"z-NULL\", \"Column2\") \n",
    "MARIJEANNIE_OTHER_SPEND = other_spend_redistributer(MARIJEANNIE , \"Column1\", \"z-NULL\", \"Column2\")\n",
    "MARIBELLA_OTHER_SPEND = other_spend_redistributer(MARIBELLA , \"Column1\", \"z-NULL\", \"Column2\") \n",
    "MARINICKI_OTHER_SPEND = other_spend_redistributer(MARINICKI , \"Column1\", \"z-NULL\", \"Column2\") \n",
    "NANA_Z_OTHER_SPEND = other_spend_redistributer(NANA_Z , \"Column1\", \"z-NULL\", \"Column2\") \n",
    "SERENE_JUNIPER_OTHER_SPEND = other_spend_redistributer(SERENE_JUNIPER , \"Column1\", \"z-NULL\", \"Column2\") \n",
    "SERENE_THEODORA_OTHER_SPEND = other_spend_redistributer(SERENE_THEODORA , \"Column1\", \"z-NULL\", \"Column2\") \n",
    "SERENE_JESSICA_OTHER_SPEND = other_spend_redistributer(SERENE_JESSICA , \"Column1\", \"z-NULL\", \"Column2\")  \n",
    "MARILOULA_OTHER_SPEND = other_spend_redistributer(MARILOULA , \"Column1\", \"z-NULL\", \"Column2\")  \n",
    "CLAIRE_Z_OTHER_SPEND = other_spend_redistributer(CLAIRE_Z , \"Column1\", \"z-NULL\", \"Column2\")  "
   ]
  },
  {
   "attachments": {},
   "cell_type": "markdown",
   "metadata": {},
   "source": [
    "# Create Dictionaries of Ships and Other Spends"
   ]
  },
  {
   "cell_type": "code",
   "execution_count": 36,
   "metadata": {},
   "outputs": [],
   "source": [
    "chandris_ship_list = {\n",
    "\"ALTHEA\": [ALTHEA, ALTHEA_OTHER_SPEND],\n",
    "\"SESTREA\": [SESTREA,SESTREA_OTHER_SPEND],\n",
    "\"AKTEA\":[AKTEA,AKTEA_OTHER_SPEND],\n",
    "\"AEGEA\":[AEGEA,AEGEA_OTHER_SPEND],\n",
    "\"ASTREA\": [ASTREA,ASTREA_OTHER_SPEND],\n",
    "\"AQUASMERALDA\":[AQUASMERALDA,AQUASMERALDA_OTHER_SPEND],\n",
    "\"AUSTRALIS\": [AUSTRALIS,AUSTRALIS_OTHER_SPEND],\n",
    "\"ALIAI\": [ALIAI,ALIAI_OTHER_SPEND],\n",
    "\"OCEANIS\":[OCEANIS,OCEANIS_OTHER_SPEND],\n",
    "\"ELLINIS\":[ELLINIS,ELLINIS_OTHER_SPEND],\n",
    "\"SERENEA\": [SERENEA,SERENEA_OTHER_SPEND],\n",
    "\"ARETEA\": [ARETEA,ARETEA_OTHER_SPEND],\n",
    "\"ATHINEA\": [ATHINEA,ATHINEA_OTHER_SPEND],\n",
    "\"ARISTEA\": [ARISTEA,ARISTEA_OTHER_SPEND],\n",
    "\"AMARTHEA\": [AMARTHEA,AMARTHEA_OTHER_SPEND],\n",
    "\"ALKEA\": [ALKEA,ALKEA_OTHER_SPEND],\n",
    "}"
   ]
  },
  {
   "cell_type": "code",
   "execution_count": 37,
   "metadata": {},
   "outputs": [],
   "source": [
    "century_ship_list = {\n",
    "\"MARIETTA\":[MARIETTA, MARIETTA_OTHER_SPEND],\n",
    "\"MYRTO\":[MYRTO,  MYRTO_OTHER_SPEND],\n",
    "\"DONA_BIBI\":[DONA_BIBI, DONA_BIBI_OTHER_SPEND],\n",
    "\"MARIPERLA\":[MARIPERLA, MARIPERLA_OTHER_SPEND],\n",
    "\"SERENE_AMELIA\":[SERENE_AMELIA,  SERENE_AMELIA_OTHER_SPEND],\n",
    "\"MARIVICTORIA\":[MARIVICTORIA,  MARIVICTORIA_OTHER_SPEND],\n",
    "\"DONA_TARA\":[DONA_TARA, DONA_TARA_OTHER_SPEND],\n",
    "\"MARIJEANNIE\":[MARIJEANNIE, MARIJEANNIE_OTHER_SPEND],\n",
    "\"MARIBELLA\":[MARIBELLA, MARIBELLA_OTHER_SPEND],\n",
    "\"MARINICKI\":[MARINICKI, MARINICKI_OTHER_SPEND],\n",
    "\"NANA_Z\":[NANA_Z, NANA_Z_OTHER_SPEND],\n",
    "\"SERENE_JUNIPER\":[SERENE_JUNIPER, SERENE_JUNIPER_OTHER_SPEND],\n",
    "\"SERENE_THEODORA\":[SERENE_THEODORA, SERENE_THEODORA_OTHER_SPEND],\n",
    "\"SERENE_JESSICA\":[SERENE_JESSICA, SERENE_JESSICA_OTHER_SPEND],\n",
    "\"MARILOULA\":[MARILOULA, MARILOULA_OTHER_SPEND],\n",
    "\"CLAIRE_Z\":[CLAIRE_Z , CLAIRE_Z_OTHER_SPEND]\n",
    "}"
   ]
  },
  {
   "attachments": {},
   "cell_type": "markdown",
   "metadata": {},
   "source": [
    "# Concatenate Chandris Other Spend to Main Spend"
   ]
  },
  {
   "cell_type": "code",
   "execution_count": 38,
   "metadata": {},
   "outputs": [],
   "source": [
    "for key, value in chandris_ship_list.items():\n",
    "    CONCAT = pd.concat([value[0], pd.melt(pd.DataFrame(value[1], index=['spend']), var_name='country-sectors', value_name='Column1')])\n",
    "    CONCAT = CONCAT.drop(CONCAT[CONCAT['Column2'] == 'z-NULL'].index, axis=0)\n",
    "    CONCAT['Posting Date'] = CONCAT['Posting Date'].fillna(2022)\n",
    "    CONCAT['Vendor Name'] = CONCAT['Vendor Name'].fillna('Other Spend (Redistributed)')\n",
    "    CONCAT['Column2'] = CONCAT['country-sectors'].str.split('-', n=1).str[0]\n",
    "    CONCAT['Country_Region Code'] = CONCAT['country-sectors'].str.split('-', n=1).str[1]\n",
    "    CONCAT = CONCAT[['Posting Date', 'Vendor Name', 'Column2', 'Country_Region Code', 'Currency', 'Column1']]\n",
    "    CONCAT.columns = ['Posting Date', 'Vendor Name', 'Sector', 'Country', 'Currency', 'Spend']\n",
    "    CONCAT['Currency'] = CONCAT['Currency'].fillna('USD')\n",
    "    CONCAT['Posting Date'] = 2022\n",
    "    CONCAT.to_csv(f\"{key}_redistributed.csv\", index=False)"
   ]
  },
  {
   "attachments": {},
   "cell_type": "markdown",
   "metadata": {},
   "source": [
    "# Concatenate Century Other Spend to Main Spend"
   ]
  },
  {
   "cell_type": "code",
   "execution_count": 39,
   "metadata": {},
   "outputs": [],
   "source": [
    "for key, value in century_ship_list.items():\n",
    "    CONCAT = pd.concat([value[0], pd.melt(pd.DataFrame(value[1], index=['spend']), var_name='country-sectors', value_name='Column1')])\n",
    "    CONCAT = CONCAT.drop(CONCAT[CONCAT['Column2'] == 'z-NULL'].index, axis=0)\n",
    "    CONCAT['Posting Date'] = CONCAT['Posting Date'].fillna(2022)\n",
    "    CONCAT['Vendor Name'] = CONCAT['Vendor Name'].fillna('Other Spend (Redistributed)')\n",
    "    CONCAT['Column2'] = CONCAT['country-sectors'].str.split('-', n=1).str[0]\n",
    "    CONCAT['Country_Region Code'] = CONCAT['country-sectors'].str.split('-', n=1).str[1]\n",
    "    CONCAT = CONCAT[['Posting Date', 'Vendor Name', 'Column2', 'Country_Region Code', 'Currency', 'Column1']]\n",
    "    CONCAT.columns = ['Posting Date', 'Vendor Name', 'Sector', 'Country', 'Currency', 'Spend']\n",
    "    CONCAT['Currency'] = CONCAT['Currency'].fillna('USD')\n",
    "    CONCAT['Posting Date'] = 2022\n",
    "    CONCAT.to_csv(f\"{key}_redistributed.csv\", index=False)"
   ]
  }
 ],
 "metadata": {
  "kernelspec": {
   "display_name": "Python 3",
   "language": "python",
   "name": "python3"
  },
  "language_info": {
   "codemirror_mode": {
    "name": "ipython",
    "version": 3
   },
   "file_extension": ".py",
   "mimetype": "text/x-python",
   "name": "python",
   "nbconvert_exporter": "python",
   "pygments_lexer": "ipython3",
   "version": "3.10.6"
  },
  "orig_nbformat": 4
 },
 "nbformat": 4,
 "nbformat_minor": 2
}
